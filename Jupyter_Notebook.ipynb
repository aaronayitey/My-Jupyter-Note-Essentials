{
 "cells": [
  {
   "cell_type": "markdown",
   "metadata": {},
   "source": [
    "<center>\n",
    "    <img src=\"https://cf-courses-data.s3.us.cloud-object-storage.appdomain.cloud/IBMDeveloperSkillsNetwork-DS0105EN-SkillsNetwork/labs/Module2/images/SN_web_lightmode.png\" width=\"300\" alt=\"cognitiveclass.ai logo\"  />\n",
    "</center>\n"
   ]
  },
  {
   "cell_type": "markdown",
   "metadata": {},
   "source": [
    "#### Add your code below following the instructions given in the course\n"
   ]
  },
  {
   "cell_type": "markdown",
   "metadata": {},
   "source": [
    "# **My Jupyter Notebook in Skills Network LTI**"
   ]
  },
  {
   "cell_type": "markdown",
   "metadata": {},
   "source": [
    "<strong> Aaron Ayitey <strong/> <br> <br>\n",
    "    I'm an aspiring Data Scientist"
   ]
  },
  {
   "cell_type": "markdown",
   "metadata": {},
   "source": [
    "__*I am a Data Science enthusiast since I love playing with data to gain insights.*__"
   ]
  },
  {
   "cell_type": "markdown",
   "metadata": {},
   "source": [
    "### The code below accepts name input from a user and prints a message, referencing the user's name"
   ]
  },
  {
   "cell_type": "code",
   "execution_count": 1,
   "metadata": {},
   "outputs": [
    {
     "name": "stdin",
     "output_type": "stream",
     "text": [
      "Please enter you name:  Aaron\n"
     ]
    },
    {
     "name": "stdout",
     "output_type": "stream",
     "text": [
      "Congratulations, Aaron! You're just starting out with Jupyter Notebook!\n"
     ]
    }
   ],
   "source": [
    "user_name = input('Please enter you name: ')\n",
    "message = \"Congratulations, {}! You're just starting out with Jupyter Notebook!\".format(user_name)\n",
    "print(message)"
   ]
  },
  {
   "cell_type": "markdown",
   "metadata": {},
   "source": [
    "***"
   ]
  },
  {
   "cell_type": "markdown",
   "metadata": {},
   "source": [
    "**Bulleted List**\n",
    "\n",
    " - Apple\n",
    " - Pineapple\n",
    " - Grapes"
   ]
  },
  {
   "cell_type": "markdown",
   "metadata": {},
   "source": [
    "**Numbered List**\n",
    "\n",
    " 1. Apple\n",
    " 2. Pineapple\n",
    " 3. Grapes"
   ]
  },
  {
   "cell_type": "markdown",
   "metadata": {},
   "source": [
    "**This is a table of my colour preference each day**\n",
    "\n",
    "| Day| Colour-Top | Colour-Down |\n",
    "| --- | --- | --- |\n",
    "| Monday | Cream | Black |\n",
    "| Tuesday | Orange | Black |\n",
    "| Wednesday | Pale Blue | Black |\n",
    "| Thursday | Cream | Sea Blue |\n",
    "| Friday | Back | Cream |\n",
    "| Saturday | Green | Black |\n",
    "| Sunday | White | Black |\n"
   ]
  },
  {
   "attachments": {
    "35c98f5e-a469-4138-ab30-80bfbcd0bb84.jpg": {
     "image/jpeg": "[encoded data removed]"
    }
   },
   "cell_type": "markdown",
   "metadata": {},
   "source": [
    "![nature1.jpg](attachment:35c98f5e-a469-4138-ab30-80bfbcd0bb84.jpg)"
   ]
  }
 ],
 "metadata": {
  "kernelspec": {
   "display_name": "Python",
   "language": "python",
   "name": "conda-env-python-py"
  },
  "language_info": {
   "codemirror_mode": {
    "name": "ipython",
    "version": 3
   },
   "file_extension": ".py",
   "mimetype": "text/x-python",
   "name": "python",
   "nbconvert_exporter": "python",
   "pygments_lexer": "ipython3",
   "version": "3.7.12"
  }
 },
 "nbformat": 4,
 "nbformat_minor": 4
}
